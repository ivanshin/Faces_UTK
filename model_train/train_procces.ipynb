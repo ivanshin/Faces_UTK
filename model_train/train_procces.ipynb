{
 "cells": [
  {
   "cell_type": "markdown",
   "metadata": {},
   "source": [
    "# Importing libs"
   ]
  },
  {
   "cell_type": "code",
   "execution_count": 1,
   "metadata": {},
   "outputs": [],
   "source": [
    "import os\n",
    "import tarfile\n",
    "import random\n",
    "import copy\n",
    "import pandas as pd\n",
    "import numpy as np\n",
    "import seaborn as sns\n",
    "import matplotlib.pyplot as plt\n",
    "from matplotlib.patches import Rectangle\n",
    "import tensorflow as tf\n",
    "\n",
    "from PIL import Image"
   ]
  },
  {
   "cell_type": "markdown",
   "metadata": {},
   "source": [
    "# Globals"
   ]
  },
  {
   "cell_type": "code",
   "execution_count": 24,
   "metadata": {},
   "outputs": [],
   "source": [
    "PATH = os.path.join('..', 'dataset')\n",
    "BATCH_SIZE = 32"
   ]
  },
  {
   "cell_type": "markdown",
   "metadata": {},
   "source": [
    "# Preprocessing"
   ]
  },
  {
   "cell_type": "code",
   "execution_count": 3,
   "metadata": {},
   "outputs": [
    {
     "data": {
      "text/plain": [
       "['crop_part1/24_1_2_20170104020224692.jpg.chip.jpg',\n",
       " 'crop_part1/3_1_3_20161219230106056.jpg.chip.jpg',\n",
       " 'crop_part1/35_0_0_20170105162448427.jpg.chip.jpg']"
      ]
     },
     "execution_count": 3,
     "metadata": {},
     "output_type": "execute_result"
    }
   ],
   "source": [
    "arch = tarfile.open(os.path.join( PATH, 'crop_part1.tar.gz'), 'r')\n",
    "arch.getnames()[:3]"
   ]
  },
  {
   "cell_type": "code",
   "execution_count": 4,
   "metadata": {},
   "outputs": [
    {
     "data": {
      "text/html": [
       "<div>\n",
       "<style scoped>\n",
       "    .dataframe tbody tr th:only-of-type {\n",
       "        vertical-align: middle;\n",
       "    }\n",
       "\n",
       "    .dataframe tbody tr th {\n",
       "        vertical-align: top;\n",
       "    }\n",
       "\n",
       "    .dataframe thead th {\n",
       "        text-align: right;\n",
       "    }\n",
       "</style>\n",
       "<table border=\"1\" class=\"dataframe\">\n",
       "  <thead>\n",
       "    <tr style=\"text-align: right;\">\n",
       "      <th></th>\n",
       "      <th>0</th>\n",
       "      <th>1</th>\n",
       "      <th>2</th>\n",
       "      <th>3</th>\n",
       "      <th>4</th>\n",
       "      <th>5</th>\n",
       "      <th>6</th>\n",
       "      <th>7</th>\n",
       "      <th>8</th>\n",
       "      <th>9</th>\n",
       "      <th>...</th>\n",
       "      <th>128</th>\n",
       "      <th>129</th>\n",
       "      <th>130</th>\n",
       "      <th>131</th>\n",
       "      <th>132</th>\n",
       "      <th>133</th>\n",
       "      <th>134</th>\n",
       "      <th>135</th>\n",
       "      <th>136</th>\n",
       "      <th>137</th>\n",
       "    </tr>\n",
       "  </thead>\n",
       "  <tbody>\n",
       "    <tr>\n",
       "      <th>0</th>\n",
       "      <td>1_0_2_20161219140530307.jpg</td>\n",
       "      <td>-4</td>\n",
       "      <td>71</td>\n",
       "      <td>-4</td>\n",
       "      <td>96</td>\n",
       "      <td>-3</td>\n",
       "      <td>120</td>\n",
       "      <td>-1</td>\n",
       "      <td>144</td>\n",
       "      <td>9</td>\n",
       "      <td>...</td>\n",
       "      <td>136</td>\n",
       "      <td>130</td>\n",
       "      <td>135</td>\n",
       "      <td>108</td>\n",
       "      <td>139</td>\n",
       "      <td>98</td>\n",
       "      <td>140</td>\n",
       "      <td>88</td>\n",
       "      <td>139</td>\n",
       "      <td>NaN</td>\n",
       "    </tr>\n",
       "    <tr>\n",
       "      <th>1</th>\n",
       "      <td>1_0_2_20161219140525218.jpg</td>\n",
       "      <td>13</td>\n",
       "      <td>76</td>\n",
       "      <td>13</td>\n",
       "      <td>96</td>\n",
       "      <td>15</td>\n",
       "      <td>117</td>\n",
       "      <td>18</td>\n",
       "      <td>137</td>\n",
       "      <td>25</td>\n",
       "      <td>...</td>\n",
       "      <td>137</td>\n",
       "      <td>121</td>\n",
       "      <td>141</td>\n",
       "      <td>102</td>\n",
       "      <td>141</td>\n",
       "      <td>94</td>\n",
       "      <td>142</td>\n",
       "      <td>85</td>\n",
       "      <td>143</td>\n",
       "      <td>NaN</td>\n",
       "    </tr>\n",
       "    <tr>\n",
       "      <th>2</th>\n",
       "      <td>1_0_2_20161219140540938.jpg</td>\n",
       "      <td>11</td>\n",
       "      <td>62</td>\n",
       "      <td>14</td>\n",
       "      <td>84</td>\n",
       "      <td>18</td>\n",
       "      <td>105</td>\n",
       "      <td>23</td>\n",
       "      <td>127</td>\n",
       "      <td>33</td>\n",
       "      <td>...</td>\n",
       "      <td>135</td>\n",
       "      <td>135</td>\n",
       "      <td>136</td>\n",
       "      <td>109</td>\n",
       "      <td>147</td>\n",
       "      <td>99</td>\n",
       "      <td>148</td>\n",
       "      <td>90</td>\n",
       "      <td>146</td>\n",
       "      <td>NaN</td>\n",
       "    </tr>\n",
       "  </tbody>\n",
       "</table>\n",
       "<p>3 rows × 138 columns</p>\n",
       "</div>"
      ],
      "text/plain": [
       "                           0    1    2    3    4    5    6    7    8    9    \\\n",
       "0  1_0_2_20161219140530307.jpg   -4   71   -4   96   -3  120   -1  144    9   \n",
       "1  1_0_2_20161219140525218.jpg   13   76   13   96   15  117   18  137   25   \n",
       "2  1_0_2_20161219140540938.jpg   11   62   14   84   18  105   23  127   33   \n",
       "\n",
       "   ...  128  129  130  131  132  133  134  135  136  137  \n",
       "0  ...  136  130  135  108  139   98  140   88  139  NaN  \n",
       "1  ...  137  121  141  102  141   94  142   85  143  NaN  \n",
       "2  ...  135  135  136  109  147   99  148   90  146  NaN  \n",
       "\n",
       "[3 rows x 138 columns]"
      ]
     },
     "execution_count": 4,
     "metadata": {},
     "output_type": "execute_result"
    }
   ],
   "source": [
    "landmarks_df = pd.read_csv(os.path.join(PATH, 'landmark_list_part1.txt'), sep= ' ', header= None)\n",
    "landmarks_df.head(3)"
   ]
  },
  {
   "cell_type": "code",
   "execution_count": 5,
   "metadata": {},
   "outputs": [],
   "source": [
    "landmarks_df = landmarks_df.drop(columns= [137])"
   ]
  },
  {
   "cell_type": "code",
   "execution_count": 6,
   "metadata": {},
   "outputs": [
    {
     "data": {
      "text/plain": [
       "['24_1_2_20170104020224692.jpg',\n",
       " '3_1_3_20161219230106056.jpg',\n",
       " '35_0_0_20170105162448427.jpg']"
      ]
     },
     "execution_count": 6,
     "metadata": {},
     "output_type": "execute_result"
    }
   ],
   "source": [
    "file_names = []\n",
    "for name in arch.getnames():\n",
    "    name = name.replace('crop_part1/', '')\n",
    "    name = name.replace('.chip.jpg', '')\n",
    "    file_names.append(name)\n",
    "file_names[:3]"
   ]
  },
  {
   "cell_type": "code",
   "execution_count": null,
   "metadata": {},
   "outputs": [],
   "source": []
  },
  {
   "cell_type": "code",
   "execution_count": 7,
   "metadata": {},
   "outputs": [
    {
     "name": "stdout",
     "output_type": "stream",
     "text": [
      "crop_part1\n"
     ]
    }
   ],
   "source": [
    "for name in file_names:\n",
    "    if name not in landmarks_df[0].values:\n",
    "        print(name)"
   ]
  },
  {
   "cell_type": "code",
   "execution_count": 8,
   "metadata": {},
   "outputs": [],
   "source": [
    "file_names.remove('crop_part1')"
   ]
  },
  {
   "cell_type": "code",
   "execution_count": 9,
   "metadata": {},
   "outputs": [
    {
     "data": {
      "text/plain": [
       "9780"
      ]
     },
     "execution_count": 9,
     "metadata": {},
     "output_type": "execute_result"
    }
   ],
   "source": [
    "len(file_names)"
   ]
  },
  {
   "cell_type": "code",
   "execution_count": 10,
   "metadata": {},
   "outputs": [
    {
     "data": {
      "text/plain": [
       "array([14, 48, 15, 70, 18, 93, 22, 114, 31, 132, 44, 147, 60, 159, 77,\n",
       "       168, 93, 170, 108, 168, 120, 157, 131, 144, 142, 128, 150, 111,\n",
       "       157, 93, 162, 73, 165, 53, 30, 31, 43, 23, 58, 22, 73, 25, 87, 31,\n",
       "       116, 30, 128, 24, 141, 21, 154, 22, 163, 31, 101, 56, 101, 73, 102,\n",
       "       91, 102, 108, 85, 114, 93, 117, 101, 119, 108, 117, 115, 113, 45,\n",
       "       57, 55, 52, 67, 53, 77, 63, 66, 65, 53, 64, 120, 62, 129, 52, 140,\n",
       "       50, 149, 56, 142, 62, 130, 64, 69, 133, 82, 132, 93, 131, 100, 132,\n",
       "       106, 130, 114, 131, 125, 131, 114, 140, 106, 145, 99, 147, 92, 146,\n",
       "       82, 142, 74, 134, 93, 137, 99, 137, 106, 136, 120, 132, 106, 136,\n",
       "       99, 137, 93, 137], dtype=object)"
      ]
     },
     "execution_count": 10,
     "metadata": {},
     "output_type": "execute_result"
    }
   ],
   "source": [
    "landmarks_df[landmarks_df[0] == '24_1_2_20170104020224692.jpg'].values[0][1:]"
   ]
  },
  {
   "cell_type": "markdown",
   "metadata": {},
   "source": [
    "## Collect neccesarry metrics (mean, std)"
   ]
  },
  {
   "cell_type": "code",
   "execution_count": 20,
   "metadata": {},
   "outputs": [
    {
     "name": "stdout",
     "output_type": "stream",
     "text": [
      "<class 'NoneType'>\n"
     ]
    }
   ],
   "source": [
    "np_imgs = []\n",
    "for f_name in arch.getnames():\n",
    "    try:\n",
    "        img = arch.extractfile(f_name)\n",
    "        img = Image.open(img)\n",
    "        img = np.asarray(img)\n",
    "        np_imgs.append(img)\n",
    "    except:\n",
    "        print(type(img))"
   ]
  },
  {
   "cell_type": "code",
   "execution_count": 184,
   "metadata": {},
   "outputs": [
    {
     "data": {
      "text/plain": [
       "(9780, 200, 200, 3)"
      ]
     },
     "execution_count": 184,
     "metadata": {},
     "output_type": "execute_result"
    }
   ],
   "source": [
    "np_imgs = np.array(np_imgs)\n",
    "np_imgs.shape"
   ]
  },
  {
   "cell_type": "code",
   "execution_count": 22,
   "metadata": {},
   "outputs": [
    {
     "name": "stdout",
     "output_type": "stream",
     "text": [
      "Mean: 131.10104298994546, Std: 63.88147475116352\n"
     ]
    }
   ],
   "source": [
    "# uncomment for long calcs\n",
    "#print(f'Mean: {np_imgs.mean()}, Std: {np_imgs.std()}')"
   ]
  },
  {
   "cell_type": "markdown",
   "metadata": {},
   "source": [
    "## FacesDataset"
   ]
  },
  {
   "cell_type": "code",
   "execution_count": 185,
   "metadata": {},
   "outputs": [],
   "source": [
    "class UTKFacesDataset:\n",
    "    def __init__(self, \n",
    "                 mode, \n",
    "                 array, \n",
    "                 landmarks_df, \n",
    "                 mean, std, \n",
    "                 transforms = None):\n",
    "        self.mode = mode\n",
    "        self.imgarr = copy.deepcopy(array)\n",
    "        self.labels = copy.deepcopy(landmarks_df)\n",
    "        self.mean = mean\n",
    "        self.std = std\n",
    "        self.transforms = transforms\n",
    "\n",
    "    def __len__(self):\n",
    "        return len(self.imgarr)\n",
    "\n",
    "    def __getitem__(self,idx):\n",
    "        x = self.imgarr[idx]\n",
    "        x = arch.extractfile(x)\n",
    "        x = Image.open(x)\n",
    "        x = self.augment(x)\n",
    "\n",
    "        f_name = self.imgarr[idx]\n",
    "        f_name = name.replace('crop_part1/', '')\n",
    "        f_name = name.replace('.chip.jpg', '')\n",
    "\n",
    "        y = landmarks_df[landmarks_df[0] == f_name].values[0][1:]\n",
    "        y = np.array(y, dtype= np.int32)\n",
    "        return x, y\n",
    "    \n",
    "    def __call__(self):\n",
    "        for i in range(self.__len__()):\n",
    "            yield self.__getitem__(i)\n",
    "            \n",
    "            if i == self.__len__()-1:\n",
    "                self.on_epoch_end()\n",
    "    \n",
    "    def normalize(self, x):\n",
    "        return tf.image.per_image_standardization(x)\n",
    "            \n",
    "    #shuffles the dataset at the end of each epoch\n",
    "    def on_epoch_end(self):\n",
    "        reidx = random.sample(population = list(range(self.__len__())),k = self.__len__())\n",
    "        self.imgarr = self.imgarr[reidx]\n",
    "    \n",
    "    #applies randomly selected augmentations to each clip (same for each frame in the clip)\n",
    "    def augment(self, x):\n",
    "        if self.transforms is not None:\n",
    "            x = self.transforms(x)\n",
    "        x = self.normalize(x)\n",
    "        return x"
   ]
  },
  {
   "cell_type": "code",
   "execution_count": 186,
   "metadata": {},
   "outputs": [],
   "source": [
    "datagen = UTKFacesDataset('train', arch.getnames(), landmarks_df,  mean= 131.10, std= 63.88)"
   ]
  },
  {
   "cell_type": "code",
   "execution_count": 187,
   "metadata": {},
   "outputs": [],
   "source": [
    "out_shape = (tf.TensorShape([200, 200, 3]), tf.TensorShape([136]))\n",
    "out_type = (tf.float32, tf.float32)\n",
    "\n",
    "dataset = tf.data.Dataset.from_generator(datagen, output_shapes= out_shape, output_types= out_type)\n",
    "dataset = dataset.batch(BATCH_SIZE)"
   ]
  },
  {
   "cell_type": "code",
   "execution_count": 190,
   "metadata": {},
   "outputs": [
    {
     "ename": "TypeError",
     "evalue": "The dataset length is unknown.",
     "output_type": "error",
     "traceback": [
      "\u001b[1;31m---------------------------------------------------------------------------\u001b[0m",
      "\u001b[1;31mTypeError\u001b[0m                                 Traceback (most recent call last)",
      "\u001b[1;32md:\\Projects\\Python\\Faces_UTK\\model_train\\train_procces.ipynb Cell 22'\u001b[0m in \u001b[0;36m<cell line: 1>\u001b[1;34m()\u001b[0m\n\u001b[1;32m----> <a href='vscode-notebook-cell:/d%3A/Projects/Python/Faces_UTK/model_train/train_procces.ipynb#ch0000027?line=0'>1</a>\u001b[0m \u001b[39mlen\u001b[39;49m(dataset)\n",
      "File \u001b[1;32md:\\Projects\\Python\\Faces_UTK\\.venv\\lib\\site-packages\\tensorflow\\python\\data\\ops\\dataset_ops.py:526\u001b[0m, in \u001b[0;36mDatasetV2.__len__\u001b[1;34m(self)\u001b[0m\n\u001b[0;32m    <a href='file:///d%3A/Projects/Python/Faces_UTK/.venv/lib/site-packages/tensorflow/python/data/ops/dataset_ops.py?line=523'>524</a>\u001b[0m   \u001b[39mraise\u001b[39;00m \u001b[39mTypeError\u001b[39;00m(\u001b[39m\"\u001b[39m\u001b[39mThe dataset is infinite.\u001b[39m\u001b[39m\"\u001b[39m)\n\u001b[0;32m    <a href='file:///d%3A/Projects/Python/Faces_UTK/.venv/lib/site-packages/tensorflow/python/data/ops/dataset_ops.py?line=524'>525</a>\u001b[0m \u001b[39mif\u001b[39;00m length\u001b[39m.\u001b[39mnumpy() \u001b[39m==\u001b[39m UNKNOWN:\n\u001b[1;32m--> <a href='file:///d%3A/Projects/Python/Faces_UTK/.venv/lib/site-packages/tensorflow/python/data/ops/dataset_ops.py?line=525'>526</a>\u001b[0m   \u001b[39mraise\u001b[39;00m \u001b[39mTypeError\u001b[39;00m(\u001b[39m\"\u001b[39m\u001b[39mThe dataset length is unknown.\u001b[39m\u001b[39m\"\u001b[39m)\n\u001b[0;32m    <a href='file:///d%3A/Projects/Python/Faces_UTK/.venv/lib/site-packages/tensorflow/python/data/ops/dataset_ops.py?line=526'>527</a>\u001b[0m \u001b[39mreturn\u001b[39;00m length\n",
      "\u001b[1;31mTypeError\u001b[0m: The dataset length is unknown."
     ]
    }
   ],
   "source": []
  },
  {
   "cell_type": "code",
   "execution_count": 191,
   "metadata": {},
   "outputs": [
    {
     "name": "stdout",
     "output_type": "stream",
     "text": [
      "WARNING:tensorflow:Tensor._shape is private, use Tensor.shape instead. Tensor._shape will eventually be removed.\n"
     ]
    }
   ],
   "source": [
    "cnt = 0\n",
    "tmp = []\n",
    "for batch in dataset:\n",
    "    x,y = batch\n",
    "    tmp = x\n",
    "    cnt+= 1\n",
    "    if cnt == 1:\n",
    "        break\n",
    "\n"
   ]
  },
  {
   "cell_type": "code",
   "execution_count": 183,
   "metadata": {},
   "outputs": [
    {
     "data": {
      "text/plain": [
       "32"
      ]
     },
     "execution_count": 183,
     "metadata": {},
     "output_type": "execute_result"
    }
   ],
   "source": [
    "len(np.unique(tmp, axis= 0))"
   ]
  },
  {
   "cell_type": "code",
   "execution_count": null,
   "metadata": {},
   "outputs": [],
   "source": []
  }
 ],
 "metadata": {
  "interpreter": {
   "hash": "70fb2cd956aff1aaa28e651ba6558bebc7728601cd1da5a0471c5f8f3cdb79c0"
  },
  "kernelspec": {
   "display_name": "Python 3.10.4 ('.venv': venv)",
   "language": "python",
   "name": "python3"
  },
  "language_info": {
   "codemirror_mode": {
    "name": "ipython",
    "version": 3
   },
   "file_extension": ".py",
   "mimetype": "text/x-python",
   "name": "python",
   "nbconvert_exporter": "python",
   "pygments_lexer": "ipython3",
   "version": "3.10.4"
  },
  "orig_nbformat": 4
 },
 "nbformat": 4,
 "nbformat_minor": 2
}
